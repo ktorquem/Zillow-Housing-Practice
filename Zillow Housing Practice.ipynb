{
 "cells": [
  {
   "cell_type": "code",
   "execution_count": 2,
   "metadata": {
    "collapsed": false,
    "scrolled": true
   },
   "outputs": [
    {
     "name": "stdout",
     "output_type": "stream",
     "text": [
      "Populating the interactive namespace from numpy and matplotlib\n"
     ]
    }
   ],
   "source": [
    "import pandas as pd\n",
    "import matplotlib.pyplot as plt\n",
    "%pylab inline"
   ]
  },
  {
   "cell_type": "markdown",
   "metadata": {},
   "source": [
    "## Read in ZHVI Home Data\n",
    "\n",
    "&nbsp;&nbsp;&nbsp;&nbsp;&nbsp;&nbsp;**ZHVI = Zillow Home Value Index**"
   ]
  },
  {
   "cell_type": "code",
   "execution_count": null,
   "metadata": {
    "collapsed": false,
    "scrolled": true
   },
   "outputs": [],
   "source": [
    "zhvi = pd.read_csv(\"Zip_Zhvi_Summary_AllHomes.csv\")\n",
    "zhvi.head(5)"
   ]
  },
  {
   "cell_type": "markdown",
   "metadata": {},
   "source": [
    "**Drop Zips with low Population**"
   ]
  },
  {
   "cell_type": "markdown",
   "metadata": {},
   "source": [
    "**Sort By Price**"
   ]
  },
  {
   "cell_type": "code",
   "execution_count": null,
   "metadata": {
    "collapsed": false
   },
   "outputs": [],
   "source": [
    "zhvi = zhvi[zhvi.SizeRank > 8000]\n",
    "zhvi.sort_values(by='Zhvi').head(5)"
   ]
  },
  {
   "cell_type": "markdown",
   "metadata": {},
   "source": [
    "## Drop Unused Columns"
   ]
  },
  {
   "cell_type": "code",
   "execution_count": null,
   "metadata": {
    "collapsed": false
   },
   "outputs": [],
   "source": [
    "zhvi.drop(['Date','RegionID','MoM'],1).head(5)"
   ]
  },
  {
   "cell_type": "markdown",
   "metadata": {},
   "source": [
    "# Start Graphing"
   ]
  },
  {
   "cell_type": "code",
   "execution_count": null,
   "metadata": {
    "collapsed": false
   },
   "outputs": [],
   "source": [
    "zhvistate = zhvi.groupby('State')\n",
    "\n",
    "zhvistate[('Zhvi','PeakZHVI')].mean().sort_values(by='Zhvi',ascending=False).plot.bar(figsize=(15,5))"
   ]
  },
  {
   "cell_type": "code",
   "execution_count": null,
   "metadata": {
    "collapsed": false
   },
   "outputs": [],
   "source": [
    "ax = zhvistate[('5Year','10Year')].mean().sort_values(by='10Year').plot.bar(figsize=(15,5),title='5 and 10 Year Percent Change in ZHVI')\n",
    "vals = ax.get_yticks()\n",
    "ax.set_yticklabels(['{:3.2f}%'.format(x*100) for x in vals])\n",
    "ax.set_ylabel('Percent Change')"
   ]
  },
  {
   "cell_type": "markdown",
   "metadata": {},
   "source": [
    "# Import Rent Data"
   ]
  },
  {
   "cell_type": "code",
   "execution_count": 3,
   "metadata": {
    "collapsed": false
   },
   "outputs": [
    {
     "data": {
      "text/html": [
       "<div>\n",
       "<table border=\"1\" class=\"dataframe\">\n",
       "  <thead>\n",
       "    <tr style=\"text-align: right;\">\n",
       "      <th></th>\n",
       "      <th>RegionID</th>\n",
       "      <th>RegionName</th>\n",
       "      <th>City</th>\n",
       "      <th>State</th>\n",
       "      <th>Metro</th>\n",
       "      <th>CountyName</th>\n",
       "      <th>SizeRank</th>\n",
       "      <th>2010-10</th>\n",
       "      <th>2010-11</th>\n",
       "      <th>2010-12</th>\n",
       "      <th>...</th>\n",
       "      <th>2015-08</th>\n",
       "      <th>2015-09</th>\n",
       "      <th>2015-10</th>\n",
       "      <th>2015-11</th>\n",
       "      <th>2015-12</th>\n",
       "      <th>2016-01</th>\n",
       "      <th>2016-02</th>\n",
       "      <th>2016-03</th>\n",
       "      <th>2016-04</th>\n",
       "      <th>2016-05</th>\n",
       "    </tr>\n",
       "  </thead>\n",
       "  <tbody>\n",
       "    <tr>\n",
       "      <th>0</th>\n",
       "      <td>61639</td>\n",
       "      <td>10025</td>\n",
       "      <td>New York</td>\n",
       "      <td>NY</td>\n",
       "      <td>New York</td>\n",
       "      <td>New York</td>\n",
       "      <td>1</td>\n",
       "      <td>18.74</td>\n",
       "      <td>18.92</td>\n",
       "      <td>19.07</td>\n",
       "      <td>...</td>\n",
       "      <td>26.56</td>\n",
       "      <td>26.58</td>\n",
       "      <td>25.85</td>\n",
       "      <td>25.25</td>\n",
       "      <td>23.29</td>\n",
       "      <td>23.22</td>\n",
       "      <td>23.42</td>\n",
       "      <td>23.74</td>\n",
       "      <td>23.53</td>\n",
       "      <td>22.91</td>\n",
       "    </tr>\n",
       "    <tr>\n",
       "      <th>1</th>\n",
       "      <td>84654</td>\n",
       "      <td>60657</td>\n",
       "      <td>Chicago</td>\n",
       "      <td>IL</td>\n",
       "      <td>Chicago</td>\n",
       "      <td>Cook</td>\n",
       "      <td>2</td>\n",
       "      <td>13.27</td>\n",
       "      <td>13.20</td>\n",
       "      <td>13.20</td>\n",
       "      <td>...</td>\n",
       "      <td>12.33</td>\n",
       "      <td>12.39</td>\n",
       "      <td>12.27</td>\n",
       "      <td>12.30</td>\n",
       "      <td>12.41</td>\n",
       "      <td>12.39</td>\n",
       "      <td>12.46</td>\n",
       "      <td>12.39</td>\n",
       "      <td>12.41</td>\n",
       "      <td>12.35</td>\n",
       "    </tr>\n",
       "    <tr>\n",
       "      <th>2</th>\n",
       "      <td>61637</td>\n",
       "      <td>10023</td>\n",
       "      <td>New York</td>\n",
       "      <td>NY</td>\n",
       "      <td>New York</td>\n",
       "      <td>New York</td>\n",
       "      <td>3</td>\n",
       "      <td>20.48</td>\n",
       "      <td>20.73</td>\n",
       "      <td>20.59</td>\n",
       "      <td>...</td>\n",
       "      <td>25.62</td>\n",
       "      <td>25.16</td>\n",
       "      <td>24.16</td>\n",
       "      <td>23.62</td>\n",
       "      <td>21.78</td>\n",
       "      <td>21.97</td>\n",
       "      <td>21.88</td>\n",
       "      <td>21.55</td>\n",
       "      <td>21.43</td>\n",
       "      <td>20.88</td>\n",
       "    </tr>\n",
       "    <tr>\n",
       "      <th>3</th>\n",
       "      <td>84616</td>\n",
       "      <td>60614</td>\n",
       "      <td>Chicago</td>\n",
       "      <td>IL</td>\n",
       "      <td>Chicago</td>\n",
       "      <td>Cook</td>\n",
       "      <td>4</td>\n",
       "      <td>14.09</td>\n",
       "      <td>14.04</td>\n",
       "      <td>13.85</td>\n",
       "      <td>...</td>\n",
       "      <td>13.35</td>\n",
       "      <td>13.48</td>\n",
       "      <td>13.35</td>\n",
       "      <td>13.36</td>\n",
       "      <td>13.19</td>\n",
       "      <td>13.20</td>\n",
       "      <td>13.32</td>\n",
       "      <td>13.31</td>\n",
       "      <td>13.40</td>\n",
       "      <td>13.36</td>\n",
       "    </tr>\n",
       "  </tbody>\n",
       "</table>\n",
       "<p>4 rows × 75 columns</p>\n",
       "</div>"
      ],
      "text/plain": [
       "   RegionID  RegionName      City State     Metro CountyName  SizeRank  \\\n",
       "0     61639       10025  New York    NY  New York   New York         1   \n",
       "1     84654       60657   Chicago    IL   Chicago       Cook         2   \n",
       "2     61637       10023  New York    NY  New York   New York         3   \n",
       "3     84616       60614   Chicago    IL   Chicago       Cook         4   \n",
       "\n",
       "   2010-10  2010-11  2010-12   ...     2015-08  2015-09  2015-10  2015-11  \\\n",
       "0    18.74    18.92    19.07   ...       26.56    26.58    25.85    25.25   \n",
       "1    13.27    13.20    13.20   ...       12.33    12.39    12.27    12.30   \n",
       "2    20.48    20.73    20.59   ...       25.62    25.16    24.16    23.62   \n",
       "3    14.09    14.04    13.85   ...       13.35    13.48    13.35    13.36   \n",
       "\n",
       "   2015-12  2016-01  2016-02  2016-03  2016-04  2016-05  \n",
       "0    23.29    23.22    23.42    23.74    23.53    22.91  \n",
       "1    12.41    12.39    12.46    12.39    12.41    12.35  \n",
       "2    21.78    21.97    21.88    21.55    21.43    20.88  \n",
       "3    13.19    13.20    13.32    13.31    13.40    13.36  \n",
       "\n",
       "[4 rows x 75 columns]"
      ]
     },
     "execution_count": 3,
     "metadata": {},
     "output_type": "execute_result"
    }
   ],
   "source": [
    "rent = pd.read_csv('Zip_PriceToRentRatio_AllHomes (1).csv')\n",
    "rent.head(4)"
   ]
  },
  {
   "cell_type": "code",
   "execution_count": 4,
   "metadata": {
    "collapsed": false
   },
   "outputs": [
    {
     "data": {
      "text/html": [
       "<div>\n",
       "<table border=\"1\" class=\"dataframe\">\n",
       "  <thead>\n",
       "    <tr style=\"text-align: right;\">\n",
       "      <th></th>\n",
       "      <th>RegionName</th>\n",
       "      <th>City</th>\n",
       "      <th>State</th>\n",
       "      <th>SizeRank</th>\n",
       "      <th>2016-05</th>\n",
       "    </tr>\n",
       "  </thead>\n",
       "  <tbody>\n",
       "    <tr>\n",
       "      <th>0</th>\n",
       "      <td>10025</td>\n",
       "      <td>New York</td>\n",
       "      <td>NY</td>\n",
       "      <td>1</td>\n",
       "      <td>22.91</td>\n",
       "    </tr>\n",
       "    <tr>\n",
       "      <th>1</th>\n",
       "      <td>60657</td>\n",
       "      <td>Chicago</td>\n",
       "      <td>IL</td>\n",
       "      <td>2</td>\n",
       "      <td>12.35</td>\n",
       "    </tr>\n",
       "    <tr>\n",
       "      <th>2</th>\n",
       "      <td>10023</td>\n",
       "      <td>New York</td>\n",
       "      <td>NY</td>\n",
       "      <td>3</td>\n",
       "      <td>20.88</td>\n",
       "    </tr>\n",
       "    <tr>\n",
       "      <th>3</th>\n",
       "      <td>60614</td>\n",
       "      <td>Chicago</td>\n",
       "      <td>IL</td>\n",
       "      <td>4</td>\n",
       "      <td>13.36</td>\n",
       "    </tr>\n",
       "    <tr>\n",
       "      <th>4</th>\n",
       "      <td>79936</td>\n",
       "      <td>El Paso</td>\n",
       "      <td>TX</td>\n",
       "      <td>5</td>\n",
       "      <td>9.10</td>\n",
       "    </tr>\n",
       "  </tbody>\n",
       "</table>\n",
       "</div>"
      ],
      "text/plain": [
       "   RegionName      City State  SizeRank  2016-05\n",
       "0       10025  New York    NY         1    22.91\n",
       "1       60657   Chicago    IL         2    12.35\n",
       "2       10023  New York    NY         3    20.88\n",
       "3       60614   Chicago    IL         4    13.36\n",
       "4       79936   El Paso    TX         5     9.10"
      ]
     },
     "execution_count": 4,
     "metadata": {},
     "output_type": "execute_result"
    }
   ],
   "source": [
    "pricetorent = rent[['RegionName','City','State','SizeRank','2016-05']]\n",
    "pricetorent.head(5)"
   ]
  },
  {
   "cell_type": "markdown",
   "metadata": {},
   "source": [
    "## Rename Columns"
   ]
  },
  {
   "cell_type": "code",
   "execution_count": 6,
   "metadata": {
    "collapsed": false
   },
   "outputs": [
    {
     "data": {
      "text/html": [
       "<div>\n",
       "<table border=\"1\" class=\"dataframe\">\n",
       "  <thead>\n",
       "    <tr style=\"text-align: right;\">\n",
       "      <th></th>\n",
       "      <th>Zip</th>\n",
       "      <th>City</th>\n",
       "      <th>State</th>\n",
       "      <th>SizeRank</th>\n",
       "      <th>PtoR</th>\n",
       "    </tr>\n",
       "  </thead>\n",
       "  <tbody>\n",
       "    <tr>\n",
       "      <th>0</th>\n",
       "      <td>10025</td>\n",
       "      <td>New York</td>\n",
       "      <td>NY</td>\n",
       "      <td>1</td>\n",
       "      <td>22.91</td>\n",
       "    </tr>\n",
       "    <tr>\n",
       "      <th>1</th>\n",
       "      <td>60657</td>\n",
       "      <td>Chicago</td>\n",
       "      <td>IL</td>\n",
       "      <td>2</td>\n",
       "      <td>12.35</td>\n",
       "    </tr>\n",
       "    <tr>\n",
       "      <th>2</th>\n",
       "      <td>10023</td>\n",
       "      <td>New York</td>\n",
       "      <td>NY</td>\n",
       "      <td>3</td>\n",
       "      <td>20.88</td>\n",
       "    </tr>\n",
       "    <tr>\n",
       "      <th>3</th>\n",
       "      <td>60614</td>\n",
       "      <td>Chicago</td>\n",
       "      <td>IL</td>\n",
       "      <td>4</td>\n",
       "      <td>13.36</td>\n",
       "    </tr>\n",
       "    <tr>\n",
       "      <th>4</th>\n",
       "      <td>79936</td>\n",
       "      <td>El Paso</td>\n",
       "      <td>TX</td>\n",
       "      <td>5</td>\n",
       "      <td>9.10</td>\n",
       "    </tr>\n",
       "  </tbody>\n",
       "</table>\n",
       "</div>"
      ],
      "text/plain": [
       "     Zip      City State  SizeRank   PtoR\n",
       "0  10025  New York    NY         1  22.91\n",
       "1  60657   Chicago    IL         2  12.35\n",
       "2  10023  New York    NY         3  20.88\n",
       "3  60614   Chicago    IL         4  13.36\n",
       "4  79936   El Paso    TX         5   9.10"
      ]
     },
     "execution_count": 6,
     "metadata": {},
     "output_type": "execute_result"
    }
   ],
   "source": [
    "pricetorent = pricetorent.rename(columns={'2016-05':'PtoR','RegionName':'Zip'})\n",
    "pricetorent.head(5)"
   ]
  },
  {
   "cell_type": "code",
   "execution_count": 7,
   "metadata": {
    "collapsed": false
   },
   "outputs": [
    {
     "data": {
      "text/plain": [
       "<matplotlib.text.Text at 0x8c439b0>"
      ]
     },
     "execution_count": 7,
     "metadata": {},
     "output_type": "execute_result"
    },
    {
     "data": {
      "image/png": "[encoded data removed]",
      "text/plain": [
       "<matplotlib.figure.Figure at 0x711a400>"
      ]
     },
     "metadata": {},
     "output_type": "display_data"
    }
   ],
   "source": [
    "ptrstate = pricetorent.groupby('State')\n",
    "\n",
    "ax = ptrstate['PtoR'].mean().sort_values().plot.bar(figsize=(15,5),title='Price to Rent (Lower is Better)')\n",
    "ax.set_ylabel('Price to Rent Ratio')"
   ]
  },
  {
   "cell_type": "code",
   "execution_count": null,
   "metadata": {
    "collapsed": true
   },
   "outputs": [],
   "source": []
  }
 ],
 "metadata": {
  "kernelspec": {
   "display_name": "Python 3",
   "language": "python",
   "name": "python3"
  },
  "language_info": {
   "codemirror_mode": {
    "name": "ipython",
    "version": 3
   },
   "file_extension": ".py",
   "mimetype": "text/x-python",
   "name": "python",
   "nbconvert_exporter": "python",
   "pygments_lexer": "ipython3",
   "version": "3.5.1"
  }
 },
 "nbformat": 4,
 "nbformat_minor": 0
}
