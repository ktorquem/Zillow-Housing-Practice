{
 "cells": [
  {
   "cell_type": "code",
   "execution_count": 2,
   "metadata": {
    "collapsed": false,
    "scrolled": true
   },
   "outputs": [
    {
     "name": "stdout",
     "output_type": "stream",
     "text": [
      "Populating the interactive namespace from numpy and matplotlib\n"
     ]
    }
   ],
   "source": [
    "import pandas as pd\n",
    "import matplotlib.pyplot as plt\n",
    "%pylab inline"
   ]
  },
  {
   "cell_type": "markdown",
   "metadata": {},
   "source": [
    "## Read in ZHVI Home Data\n",
    "\n",
    "&nbsp;&nbsp;&nbsp;&nbsp;&nbsp;&nbsp;**ZHVI = Zillow Home Value Index**"
   ]
  },
  {
   "cell_type": "code",
   "execution_count": 3,
   "metadata": {
    "collapsed": false,
    "scrolled": true
   },
   "outputs": [
    {
     "data": {
      "text/html": [
       "<div>\n",
       "<table border=\"1\" class=\"dataframe\">\n",
       "  <thead>\n",
       "    <tr style=\"text-align: right;\">\n",
       "      <th></th>\n",
       "      <th>Date</th>\n",
       "      <th>RegionID</th>\n",
       "      <th>RegionName</th>\n",
       "      <th>State</th>\n",
       "      <th>Metro</th>\n",
       "      <th>County</th>\n",
       "      <th>City</th>\n",
       "      <th>SizeRank</th>\n",
       "      <th>Zhvi</th>\n",
       "      <th>MoM</th>\n",
       "      <th>QoQ</th>\n",
       "      <th>YoY</th>\n",
       "      <th>5Year</th>\n",
       "      <th>10Year</th>\n",
       "      <th>PeakMonth</th>\n",
       "      <th>PeakQuarter</th>\n",
       "      <th>PeakZHVI</th>\n",
       "      <th>PctFallFromPeak</th>\n",
       "      <th>LastTimeAtCurrZHVI</th>\n",
       "    </tr>\n",
       "  </thead>\n",
       "  <tbody>\n",
       "    <tr>\n",
       "      <th>0</th>\n",
       "      <td>2016-05-31</td>\n",
       "      <td>61639</td>\n",
       "      <td>10025</td>\n",
       "      <td>NY</td>\n",
       "      <td>New York</td>\n",
       "      <td>New York</td>\n",
       "      <td>New York</td>\n",
       "      <td>0</td>\n",
       "      <td>1065700</td>\n",
       "      <td>-0.019325</td>\n",
       "      <td>-0.014792</td>\n",
       "      <td>0.079081</td>\n",
       "      <td>0.074313</td>\n",
       "      <td>0.036853</td>\n",
       "      <td>2016-03</td>\n",
       "      <td>2016-Q1</td>\n",
       "      <td>1096800</td>\n",
       "      <td>-0.028355</td>\n",
       "      <td>2015-08</td>\n",
       "    </tr>\n",
       "    <tr>\n",
       "      <th>1</th>\n",
       "      <td>2016-05-31</td>\n",
       "      <td>84654</td>\n",
       "      <td>60657</td>\n",
       "      <td>IL</td>\n",
       "      <td>Chicago</td>\n",
       "      <td>Cook</td>\n",
       "      <td>Chicago</td>\n",
       "      <td>1</td>\n",
       "      <td>311400</td>\n",
       "      <td>-0.000321</td>\n",
       "      <td>0.005165</td>\n",
       "      <td>0.008746</td>\n",
       "      <td>0.028485</td>\n",
       "      <td>-0.002845</td>\n",
       "      <td>2007-09</td>\n",
       "      <td>2007-Q3</td>\n",
       "      <td>324300</td>\n",
       "      <td>-0.039778</td>\n",
       "      <td>2005-06</td>\n",
       "    </tr>\n",
       "    <tr>\n",
       "      <th>2</th>\n",
       "      <td>2016-05-31</td>\n",
       "      <td>61637</td>\n",
       "      <td>10023</td>\n",
       "      <td>NY</td>\n",
       "      <td>New York</td>\n",
       "      <td>New York</td>\n",
       "      <td>New York</td>\n",
       "      <td>2</td>\n",
       "      <td>1060600</td>\n",
       "      <td>-0.005905</td>\n",
       "      <td>-0.041309</td>\n",
       "      <td>0.029809</td>\n",
       "      <td>0.045511</td>\n",
       "      <td>0.024610</td>\n",
       "      <td>2015-09</td>\n",
       "      <td>2015-Q3</td>\n",
       "      <td>1129300</td>\n",
       "      <td>-0.060834</td>\n",
       "      <td>2015-07</td>\n",
       "    </tr>\n",
       "    <tr>\n",
       "      <th>3</th>\n",
       "      <td>2016-05-31</td>\n",
       "      <td>84616</td>\n",
       "      <td>60614</td>\n",
       "      <td>IL</td>\n",
       "      <td>Chicago</td>\n",
       "      <td>Cook</td>\n",
       "      <td>Chicago</td>\n",
       "      <td>3</td>\n",
       "      <td>381500</td>\n",
       "      <td>0.004476</td>\n",
       "      <td>0.013819</td>\n",
       "      <td>0.067133</td>\n",
       "      <td>0.027629</td>\n",
       "      <td>-0.000679</td>\n",
       "      <td>2007-09</td>\n",
       "      <td>2007-Q3</td>\n",
       "      <td>398100</td>\n",
       "      <td>-0.041698</td>\n",
       "      <td>2005-12</td>\n",
       "    </tr>\n",
       "    <tr>\n",
       "      <th>4</th>\n",
       "      <td>2016-05-31</td>\n",
       "      <td>93144</td>\n",
       "      <td>79936</td>\n",
       "      <td>TX</td>\n",
       "      <td>El Paso</td>\n",
       "      <td>El Paso</td>\n",
       "      <td>El Paso</td>\n",
       "      <td>4</td>\n",
       "      <td>111100</td>\n",
       "      <td>0.000901</td>\n",
       "      <td>0.008167</td>\n",
       "      <td>-0.004480</td>\n",
       "      <td>-0.005489</td>\n",
       "      <td>0.003020</td>\n",
       "      <td>2007-12</td>\n",
       "      <td>2007-Q4</td>\n",
       "      <td>131000</td>\n",
       "      <td>-0.151908</td>\n",
       "      <td>2006-07</td>\n",
       "    </tr>\n",
       "  </tbody>\n",
       "</table>\n",
       "</div>"
      ],
      "text/plain": [
       "         Date  RegionID  RegionName State     Metro    County      City  \\\n",
       "0  2016-05-31     61639       10025    NY  New York  New York  New York   \n",
       "1  2016-05-31     84654       60657    IL   Chicago      Cook   Chicago   \n",
       "2  2016-05-31     61637       10023    NY  New York  New York  New York   \n",
       "3  2016-05-31     84616       60614    IL   Chicago      Cook   Chicago   \n",
       "4  2016-05-31     93144       79936    TX   El Paso   El Paso   El Paso   \n",
       "\n",
       "   SizeRank     Zhvi       MoM       QoQ       YoY     5Year    10Year  \\\n",
       "0         0  1065700 -0.019325 -0.014792  0.079081  0.074313  0.036853   \n",
       "1         1   311400 -0.000321  0.005165  0.008746  0.028485 -0.002845   \n",
       "2         2  1060600 -0.005905 -0.041309  0.029809  0.045511  0.024610   \n",
       "3         3   381500  0.004476  0.013819  0.067133  0.027629 -0.000679   \n",
       "4         4   111100  0.000901  0.008167 -0.004480 -0.005489  0.003020   \n",
       "\n",
       "  PeakMonth PeakQuarter  PeakZHVI  PctFallFromPeak LastTimeAtCurrZHVI  \n",
       "0   2016-03     2016-Q1   1096800        -0.028355            2015-08  \n",
       "1   2007-09     2007-Q3    324300        -0.039778            2005-06  \n",
       "2   2015-09     2015-Q3   1129300        -0.060834            2015-07  \n",
       "3   2007-09     2007-Q3    398100        -0.041698            2005-12  \n",
       "4   2007-12     2007-Q4    131000        -0.151908            2006-07  "
      ]
     },
     "execution_count": 3,
     "metadata": {},
     "output_type": "execute_result"
    }
   ],
   "source": [
    "df = pd.read_csv(\"Zip_Zhvi_Summary_AllHomes.csv\")\n",
    "df.head(5)"
   ]
  },
  {
   "cell_type": "markdown",
   "metadata": {},
   "source": [
    "## Drop Unused Columns and Rename ZIP"
   ]
  },
  {
   "cell_type": "code",
   "execution_count": 4,
   "metadata": {
    "collapsed": false
   },
   "outputs": [
    {
     "data": {
      "text/html": [
       "<div>\n",
       "<table border=\"1\" class=\"dataframe\">\n",
       "  <thead>\n",
       "    <tr style=\"text-align: right;\">\n",
       "      <th></th>\n",
       "      <th>Zip</th>\n",
       "      <th>City</th>\n",
       "      <th>State</th>\n",
       "      <th>SizeRank</th>\n",
       "      <th>Zhvi</th>\n",
       "      <th>5Year</th>\n",
       "      <th>10Year</th>\n",
       "      <th>PeakZHVI</th>\n",
       "    </tr>\n",
       "  </thead>\n",
       "  <tbody>\n",
       "    <tr>\n",
       "      <th>0</th>\n",
       "      <td>10025</td>\n",
       "      <td>New York</td>\n",
       "      <td>NY</td>\n",
       "      <td>0</td>\n",
       "      <td>1065700</td>\n",
       "      <td>0.074313</td>\n",
       "      <td>0.036853</td>\n",
       "      <td>1096800</td>\n",
       "    </tr>\n",
       "    <tr>\n",
       "      <th>1</th>\n",
       "      <td>60657</td>\n",
       "      <td>Chicago</td>\n",
       "      <td>IL</td>\n",
       "      <td>1</td>\n",
       "      <td>311400</td>\n",
       "      <td>0.028485</td>\n",
       "      <td>-0.002845</td>\n",
       "      <td>324300</td>\n",
       "    </tr>\n",
       "    <tr>\n",
       "      <th>2</th>\n",
       "      <td>10023</td>\n",
       "      <td>New York</td>\n",
       "      <td>NY</td>\n",
       "      <td>2</td>\n",
       "      <td>1060600</td>\n",
       "      <td>0.045511</td>\n",
       "      <td>0.024610</td>\n",
       "      <td>1129300</td>\n",
       "    </tr>\n",
       "    <tr>\n",
       "      <th>3</th>\n",
       "      <td>60614</td>\n",
       "      <td>Chicago</td>\n",
       "      <td>IL</td>\n",
       "      <td>3</td>\n",
       "      <td>381500</td>\n",
       "      <td>0.027629</td>\n",
       "      <td>-0.000679</td>\n",
       "      <td>398100</td>\n",
       "    </tr>\n",
       "    <tr>\n",
       "      <th>4</th>\n",
       "      <td>79936</td>\n",
       "      <td>El Paso</td>\n",
       "      <td>TX</td>\n",
       "      <td>4</td>\n",
       "      <td>111100</td>\n",
       "      <td>-0.005489</td>\n",
       "      <td>0.003020</td>\n",
       "      <td>131000</td>\n",
       "    </tr>\n",
       "  </tbody>\n",
       "</table>\n",
       "</div>"
      ],
      "text/plain": [
       "     Zip      City State  SizeRank     Zhvi     5Year    10Year  PeakZHVI\n",
       "0  10025  New York    NY         0  1065700  0.074313  0.036853   1096800\n",
       "1  60657   Chicago    IL         1   311400  0.028485 -0.002845    324300\n",
       "2  10023  New York    NY         2  1060600  0.045511  0.024610   1129300\n",
       "3  60614   Chicago    IL         3   381500  0.027629 -0.000679    398100\n",
       "4  79936   El Paso    TX         4   111100 -0.005489  0.003020    131000"
      ]
     },
     "execution_count": 4,
     "metadata": {},
     "output_type": "execute_result"
    }
   ],
   "source": [
    "price = df[['RegionName','City','State','SizeRank','Zhvi','5Year','10Year','PeakZHVI']]\n",
    "price.columns.values[0] = 'Zip'\n",
    "price.head(5)"
   ]
  },
  {
   "cell_type": "markdown",
   "metadata": {},
   "source": [
    "## Drop Nulls/Zips with Low Population and Sort By ZHVI"
   ]
  },
  {
   "cell_type": "code",
   "execution_count": 5,
   "metadata": {
    "collapsed": false
   },
   "outputs": [
    {
     "data": {
      "text/html": [
       "<div>\n",
       "<table border=\"1\" class=\"dataframe\">\n",
       "  <thead>\n",
       "    <tr style=\"text-align: right;\">\n",
       "      <th></th>\n",
       "      <th>Zip</th>\n",
       "      <th>City</th>\n",
       "      <th>State</th>\n",
       "      <th>SizeRank</th>\n",
       "      <th>Zhvi</th>\n",
       "      <th>5Year</th>\n",
       "      <th>10Year</th>\n",
       "      <th>PeakZHVI</th>\n",
       "    </tr>\n",
       "  </thead>\n",
       "  <tbody>\n",
       "    <tr>\n",
       "      <th>12252</th>\n",
       "      <td>73550</td>\n",
       "      <td>Hollis</td>\n",
       "      <td>OK</td>\n",
       "      <td>12252</td>\n",
       "      <td>36400</td>\n",
       "      <td>0.047953</td>\n",
       "      <td>0.022635</td>\n",
       "      <td>42700</td>\n",
       "    </tr>\n",
       "    <tr>\n",
       "      <th>8266</th>\n",
       "      <td>46406</td>\n",
       "      <td>Gary</td>\n",
       "      <td>IN</td>\n",
       "      <td>8266</td>\n",
       "      <td>39000</td>\n",
       "      <td>-0.065764</td>\n",
       "      <td>-0.049946</td>\n",
       "      <td>70500</td>\n",
       "    </tr>\n",
       "    <tr>\n",
       "      <th>12854</th>\n",
       "      <td>73860</td>\n",
       "      <td>Waynoka</td>\n",
       "      <td>OK</td>\n",
       "      <td>12854</td>\n",
       "      <td>39300</td>\n",
       "      <td>-0.022340</td>\n",
       "      <td>0.016705</td>\n",
       "      <td>49200</td>\n",
       "    </tr>\n",
       "    <tr>\n",
       "      <th>9614</th>\n",
       "      <td>45416</td>\n",
       "      <td>Trotwood</td>\n",
       "      <td>OH</td>\n",
       "      <td>9614</td>\n",
       "      <td>40100</td>\n",
       "      <td>-0.022793</td>\n",
       "      <td>-0.045972</td>\n",
       "      <td>67300</td>\n",
       "    </tr>\n",
       "    <tr>\n",
       "      <th>10926</th>\n",
       "      <td>17970</td>\n",
       "      <td>Saint Clair</td>\n",
       "      <td>PA</td>\n",
       "      <td>10926</td>\n",
       "      <td>40800</td>\n",
       "      <td>0.012727</td>\n",
       "      <td>-0.008643</td>\n",
       "      <td>52700</td>\n",
       "    </tr>\n",
       "  </tbody>\n",
       "</table>\n",
       "</div>"
      ],
      "text/plain": [
       "         Zip         City State  SizeRank   Zhvi     5Year    10Year  PeakZHVI\n",
       "12252  73550       Hollis    OK     12252  36400  0.047953  0.022635     42700\n",
       "8266   46406         Gary    IN      8266  39000 -0.065764 -0.049946     70500\n",
       "12854  73860      Waynoka    OK     12854  39300 -0.022340  0.016705     49200\n",
       "9614   45416     Trotwood    OH      9614  40100 -0.022793 -0.045972     67300\n",
       "10926  17970  Saint Clair    PA     10926  40800  0.012727 -0.008643     52700"
      ]
     },
     "execution_count": 5,
     "metadata": {},
     "output_type": "execute_result"
    }
   ],
   "source": [
    "price = price[pd.notnull(price['10Year'])]\n",
    "price = price[price.SizeRank > 8000]\n",
    "price.sort_values(by='Zhvi').head(5)"
   ]
  },
  {
   "cell_type": "code",
   "execution_count": 6,
   "metadata": {
    "collapsed": false
   },
   "outputs": [
    {
     "name": "stdout",
     "output_type": "stream",
     "text": [
      "<class 'pandas.core.frame.DataFrame'>\n",
      "Int64Index: 4685 entries, 8001 to 13359\n",
      "Data columns (total 8 columns):\n",
      "Zip         4685 non-null int64\n",
      "City        4685 non-null object\n",
      "State       4685 non-null object\n",
      "SizeRank    4685 non-null int64\n",
      "Zhvi        4685 non-null int64\n",
      "5Year       4685 non-null float64\n",
      "10Year      4685 non-null float64\n",
      "PeakZHVI    4685 non-null int64\n",
      "dtypes: float64(2), int64(4), object(2)\n",
      "memory usage: 329.4+ KB\n"
     ]
    }
   ],
   "source": [
    "price.info()"
   ]
  },
  {
   "cell_type": "markdown",
   "metadata": {},
   "source": [
    "# Start Graphing"
   ]
  },
  {
   "cell_type": "code",
   "execution_count": 7,
   "metadata": {
    "collapsed": false,
    "scrolled": true
   },
   "outputs": [
    {
     "data": {
      "text/plain": [
       "<matplotlib.axes._subplots.AxesSubplot at 0x8c031d0>"
      ]
     },
     "execution_count": 7,
     "metadata": {},
     "output_type": "execute_result"
    },
    {
     "data": {
      "image/png": "[encoded data removed]",
      "text/plain": [
       "<matplotlib.figure.Figure at 0x8bf62e8>"
      ]
     },
     "metadata": {},
     "output_type": "display_data"
    }
   ],
   "source": [
    "zhvistate = price.groupby('State')\n",
    "\n",
    "zhvistate[('Zhvi','PeakZHVI')].mean().sort_values(by='Zhvi',ascending=False).plot.bar(figsize=(15,5))"
   ]
  },
  {
   "cell_type": "code",
   "execution_count": 8,
   "metadata": {
    "collapsed": false
   },
   "outputs": [
    {
     "data": {
      "text/plain": [
       "<matplotlib.text.Text at 0x916e978>"
      ]
     },
     "execution_count": 8,
     "metadata": {},
     "output_type": "execute_result"
    },
    {
     "data": {
      "image/png": "[encoded data removed]",
      "text/plain": [
       "<matplotlib.figure.Figure at 0x8fe8c50>"
      ]
     },
     "metadata": {},
     "output_type": "display_data"
    }
   ],
   "source": [
    "ax = zhvistate[('5Year','10Year')].mean().sort_values(by='10Year').plot.bar(figsize=(15,5),title='5 and 10 Year Percent Change in ZHVI')\n",
    "vals = ax.get_yticks()\n",
    "ax.set_yticklabels(['{:3.2f}%'.format(x*100) for x in vals])\n",
    "ax.set_ylabel('Percent Change')"
   ]
  },
  {
   "cell_type": "markdown",
   "metadata": {},
   "source": [
    "# Import Rent Data"
   ]
  },
  {
   "cell_type": "code",
   "execution_count": 9,
   "metadata": {
    "collapsed": false
   },
   "outputs": [
    {
     "data": {
      "text/html": [
       "<div>\n",
       "<table border=\"1\" class=\"dataframe\">\n",
       "  <thead>\n",
       "    <tr style=\"text-align: right;\">\n",
       "      <th></th>\n",
       "      <th>RegionID</th>\n",
       "      <th>RegionName</th>\n",
       "      <th>City</th>\n",
       "      <th>State</th>\n",
       "      <th>Metro</th>\n",
       "      <th>CountyName</th>\n",
       "      <th>SizeRank</th>\n",
       "      <th>2010-10</th>\n",
       "      <th>2010-11</th>\n",
       "      <th>2010-12</th>\n",
       "      <th>...</th>\n",
       "      <th>2015-08</th>\n",
       "      <th>2015-09</th>\n",
       "      <th>2015-10</th>\n",
       "      <th>2015-11</th>\n",
       "      <th>2015-12</th>\n",
       "      <th>2016-01</th>\n",
       "      <th>2016-02</th>\n",
       "      <th>2016-03</th>\n",
       "      <th>2016-04</th>\n",
       "      <th>2016-05</th>\n",
       "    </tr>\n",
       "  </thead>\n",
       "  <tbody>\n",
       "    <tr>\n",
       "      <th>0</th>\n",
       "      <td>61639</td>\n",
       "      <td>10025</td>\n",
       "      <td>New York</td>\n",
       "      <td>NY</td>\n",
       "      <td>New York</td>\n",
       "      <td>New York</td>\n",
       "      <td>1</td>\n",
       "      <td>18.74</td>\n",
       "      <td>18.92</td>\n",
       "      <td>19.07</td>\n",
       "      <td>...</td>\n",
       "      <td>26.56</td>\n",
       "      <td>26.58</td>\n",
       "      <td>25.85</td>\n",
       "      <td>25.25</td>\n",
       "      <td>23.29</td>\n",
       "      <td>23.22</td>\n",
       "      <td>23.42</td>\n",
       "      <td>23.74</td>\n",
       "      <td>23.53</td>\n",
       "      <td>22.91</td>\n",
       "    </tr>\n",
       "    <tr>\n",
       "      <th>1</th>\n",
       "      <td>84654</td>\n",
       "      <td>60657</td>\n",
       "      <td>Chicago</td>\n",
       "      <td>IL</td>\n",
       "      <td>Chicago</td>\n",
       "      <td>Cook</td>\n",
       "      <td>2</td>\n",
       "      <td>13.27</td>\n",
       "      <td>13.20</td>\n",
       "      <td>13.20</td>\n",
       "      <td>...</td>\n",
       "      <td>12.33</td>\n",
       "      <td>12.39</td>\n",
       "      <td>12.27</td>\n",
       "      <td>12.30</td>\n",
       "      <td>12.41</td>\n",
       "      <td>12.39</td>\n",
       "      <td>12.46</td>\n",
       "      <td>12.39</td>\n",
       "      <td>12.41</td>\n",
       "      <td>12.35</td>\n",
       "    </tr>\n",
       "    <tr>\n",
       "      <th>2</th>\n",
       "      <td>61637</td>\n",
       "      <td>10023</td>\n",
       "      <td>New York</td>\n",
       "      <td>NY</td>\n",
       "      <td>New York</td>\n",
       "      <td>New York</td>\n",
       "      <td>3</td>\n",
       "      <td>20.48</td>\n",
       "      <td>20.73</td>\n",
       "      <td>20.59</td>\n",
       "      <td>...</td>\n",
       "      <td>25.62</td>\n",
       "      <td>25.16</td>\n",
       "      <td>24.16</td>\n",
       "      <td>23.62</td>\n",
       "      <td>21.78</td>\n",
       "      <td>21.97</td>\n",
       "      <td>21.88</td>\n",
       "      <td>21.55</td>\n",
       "      <td>21.43</td>\n",
       "      <td>20.88</td>\n",
       "    </tr>\n",
       "    <tr>\n",
       "      <th>3</th>\n",
       "      <td>84616</td>\n",
       "      <td>60614</td>\n",
       "      <td>Chicago</td>\n",
       "      <td>IL</td>\n",
       "      <td>Chicago</td>\n",
       "      <td>Cook</td>\n",
       "      <td>4</td>\n",
       "      <td>14.09</td>\n",
       "      <td>14.04</td>\n",
       "      <td>13.85</td>\n",
       "      <td>...</td>\n",
       "      <td>13.35</td>\n",
       "      <td>13.48</td>\n",
       "      <td>13.35</td>\n",
       "      <td>13.36</td>\n",
       "      <td>13.19</td>\n",
       "      <td>13.20</td>\n",
       "      <td>13.32</td>\n",
       "      <td>13.31</td>\n",
       "      <td>13.40</td>\n",
       "      <td>13.36</td>\n",
       "    </tr>\n",
       "  </tbody>\n",
       "</table>\n",
       "<p>4 rows × 75 columns</p>\n",
       "</div>"
      ],
      "text/plain": [
       "   RegionID  RegionName      City State     Metro CountyName  SizeRank  \\\n",
       "0     61639       10025  New York    NY  New York   New York         1   \n",
       "1     84654       60657   Chicago    IL   Chicago       Cook         2   \n",
       "2     61637       10023  New York    NY  New York   New York         3   \n",
       "3     84616       60614   Chicago    IL   Chicago       Cook         4   \n",
       "\n",
       "   2010-10  2010-11  2010-12   ...     2015-08  2015-09  2015-10  2015-11  \\\n",
       "0    18.74    18.92    19.07   ...       26.56    26.58    25.85    25.25   \n",
       "1    13.27    13.20    13.20   ...       12.33    12.39    12.27    12.30   \n",
       "2    20.48    20.73    20.59   ...       25.62    25.16    24.16    23.62   \n",
       "3    14.09    14.04    13.85   ...       13.35    13.48    13.35    13.36   \n",
       "\n",
       "   2015-12  2016-01  2016-02  2016-03  2016-04  2016-05  \n",
       "0    23.29    23.22    23.42    23.74    23.53    22.91  \n",
       "1    12.41    12.39    12.46    12.39    12.41    12.35  \n",
       "2    21.78    21.97    21.88    21.55    21.43    20.88  \n",
       "3    13.19    13.20    13.32    13.31    13.40    13.36  \n",
       "\n",
       "[4 rows x 75 columns]"
      ]
     },
     "execution_count": 9,
     "metadata": {},
     "output_type": "execute_result"
    }
   ],
   "source": [
    "rent = pd.read_csv('Zip_PriceToRentRatio_AllHomes (1).csv')\n",
    "rent.head(4)"
   ]
  },
  {
   "cell_type": "code",
   "execution_count": 10,
   "metadata": {
    "collapsed": false
   },
   "outputs": [
    {
     "data": {
      "text/html": [
       "<div>\n",
       "<table border=\"1\" class=\"dataframe\">\n",
       "  <thead>\n",
       "    <tr style=\"text-align: right;\">\n",
       "      <th></th>\n",
       "      <th>RegionName</th>\n",
       "      <th>City</th>\n",
       "      <th>State</th>\n",
       "      <th>SizeRank</th>\n",
       "      <th>2016-05</th>\n",
       "    </tr>\n",
       "  </thead>\n",
       "  <tbody>\n",
       "    <tr>\n",
       "      <th>0</th>\n",
       "      <td>10025</td>\n",
       "      <td>New York</td>\n",
       "      <td>NY</td>\n",
       "      <td>1</td>\n",
       "      <td>22.91</td>\n",
       "    </tr>\n",
       "    <tr>\n",
       "      <th>1</th>\n",
       "      <td>60657</td>\n",
       "      <td>Chicago</td>\n",
       "      <td>IL</td>\n",
       "      <td>2</td>\n",
       "      <td>12.35</td>\n",
       "    </tr>\n",
       "    <tr>\n",
       "      <th>2</th>\n",
       "      <td>10023</td>\n",
       "      <td>New York</td>\n",
       "      <td>NY</td>\n",
       "      <td>3</td>\n",
       "      <td>20.88</td>\n",
       "    </tr>\n",
       "    <tr>\n",
       "      <th>3</th>\n",
       "      <td>60614</td>\n",
       "      <td>Chicago</td>\n",
       "      <td>IL</td>\n",
       "      <td>4</td>\n",
       "      <td>13.36</td>\n",
       "    </tr>\n",
       "    <tr>\n",
       "      <th>4</th>\n",
       "      <td>79936</td>\n",
       "      <td>El Paso</td>\n",
       "      <td>TX</td>\n",
       "      <td>5</td>\n",
       "      <td>9.10</td>\n",
       "    </tr>\n",
       "  </tbody>\n",
       "</table>\n",
       "</div>"
      ],
      "text/plain": [
       "   RegionName      City State  SizeRank  2016-05\n",
       "0       10025  New York    NY         1    22.91\n",
       "1       60657   Chicago    IL         2    12.35\n",
       "2       10023  New York    NY         3    20.88\n",
       "3       60614   Chicago    IL         4    13.36\n",
       "4       79936   El Paso    TX         5     9.10"
      ]
     },
     "execution_count": 10,
     "metadata": {},
     "output_type": "execute_result"
    }
   ],
   "source": [
    "pricetorent = rent[['RegionName','City','State','SizeRank','2016-05']]\n",
    "pricetorent.head(5)"
   ]
  },
  {
   "cell_type": "markdown",
   "metadata": {},
   "source": [
    "## Rename Columns"
   ]
  },
  {
   "cell_type": "code",
   "execution_count": 11,
   "metadata": {
    "collapsed": false
   },
   "outputs": [
    {
     "data": {
      "text/html": [
       "<div>\n",
       "<table border=\"1\" class=\"dataframe\">\n",
       "  <thead>\n",
       "    <tr style=\"text-align: right;\">\n",
       "      <th></th>\n",
       "      <th>Zip</th>\n",
       "      <th>City</th>\n",
       "      <th>State</th>\n",
       "      <th>SizeRank</th>\n",
       "      <th>PtoR</th>\n",
       "    </tr>\n",
       "  </thead>\n",
       "  <tbody>\n",
       "    <tr>\n",
       "      <th>0</th>\n",
       "      <td>10025</td>\n",
       "      <td>New York</td>\n",
       "      <td>NY</td>\n",
       "      <td>1</td>\n",
       "      <td>22.91</td>\n",
       "    </tr>\n",
       "    <tr>\n",
       "      <th>1</th>\n",
       "      <td>60657</td>\n",
       "      <td>Chicago</td>\n",
       "      <td>IL</td>\n",
       "      <td>2</td>\n",
       "      <td>12.35</td>\n",
       "    </tr>\n",
       "    <tr>\n",
       "      <th>2</th>\n",
       "      <td>10023</td>\n",
       "      <td>New York</td>\n",
       "      <td>NY</td>\n",
       "      <td>3</td>\n",
       "      <td>20.88</td>\n",
       "    </tr>\n",
       "    <tr>\n",
       "      <th>3</th>\n",
       "      <td>60614</td>\n",
       "      <td>Chicago</td>\n",
       "      <td>IL</td>\n",
       "      <td>4</td>\n",
       "      <td>13.36</td>\n",
       "    </tr>\n",
       "    <tr>\n",
       "      <th>4</th>\n",
       "      <td>79936</td>\n",
       "      <td>El Paso</td>\n",
       "      <td>TX</td>\n",
       "      <td>5</td>\n",
       "      <td>9.10</td>\n",
       "    </tr>\n",
       "  </tbody>\n",
       "</table>\n",
       "</div>"
      ],
      "text/plain": [
       "     Zip      City State  SizeRank   PtoR\n",
       "0  10025  New York    NY         1  22.91\n",
       "1  60657   Chicago    IL         2  12.35\n",
       "2  10023  New York    NY         3  20.88\n",
       "3  60614   Chicago    IL         4  13.36\n",
       "4  79936   El Paso    TX         5   9.10"
      ]
     },
     "execution_count": 11,
     "metadata": {},
     "output_type": "execute_result"
    }
   ],
   "source": [
    "pricetorent = pricetorent.rename(columns={'2016-05':'PtoR','RegionName':'Zip'})\n",
    "pricetorent.head(5)"
   ]
  },
  {
   "cell_type": "code",
   "execution_count": 12,
   "metadata": {
    "collapsed": false
   },
   "outputs": [
    {
     "data": {
      "text/plain": [
       "<matplotlib.text.Text at 0x915e400>"
      ]
     },
     "execution_count": 12,
     "metadata": {},
     "output_type": "execute_result"
    },
    {
     "data": {
      "image/png": "[encoded data removed]",
      "text/plain": [
       "<matplotlib.figure.Figure at 0x9b62438>"
      ]
     },
     "metadata": {},
     "output_type": "display_data"
    }
   ],
   "source": [
    "ptrstate = pricetorent.groupby('State')\n",
    "\n",
    "ax = ptrstate['PtoR'].mean().sort_values().plot.bar(figsize=(15,5),title='Price to Rent (Lower is Better)')\n",
    "ax.set_ylabel('Price to Rent Ratio')"
   ]
  }
 ],
 "metadata": {
  "kernelspec": {
   "display_name": "Python 3",
   "language": "python",
   "name": "python3"
  },
  "language_info": {
   "codemirror_mode": {
    "name": "ipython",
    "version": 3
   },
   "file_extension": ".py",
   "mimetype": "text/x-python",
   "name": "python",
   "nbconvert_exporter": "python",
   "pygments_lexer": "ipython3",
   "version": "3.5.1"
  }
 },
 "nbformat": 4,
 "nbformat_minor": 0
}
